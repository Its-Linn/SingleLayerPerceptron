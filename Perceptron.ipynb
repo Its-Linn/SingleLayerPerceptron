{
  "nbformat": 4,
  "nbformat_minor": 0,
  "metadata": {
    "colab": {
      "provenance": [],
      "toc_visible": true
    },
    "kernelspec": {
      "name": "python3",
      "display_name": "Python 3"
    },
    "language_info": {
      "name": "python"
    }
  },
  "cells": [
    {
      "cell_type": "markdown",
      "source": [
        "**Connect Drive**"
      ],
      "metadata": {
        "id": "BBICqO6eWHqz"
      }
    },
    {
      "cell_type": "code",
      "source": [
        "from google.colab import drive\n",
        "drive.mount('/content/drive')"
      ],
      "metadata": {
        "colab": {
          "base_uri": "https://localhost:8080/"
        },
        "id": "bGBEafZnc0kt",
        "outputId": "e26a887f-5001-40e4-e55e-588c517a8aa5"
      },
      "execution_count": null,
      "outputs": [
        {
          "output_type": "stream",
          "name": "stdout",
          "text": [
            "Mounted at /content/drive\n"
          ]
        }
      ]
    },
    {
      "cell_type": "markdown",
      "source": [
        "**Import Library**"
      ],
      "metadata": {
        "id": "q6gQwxz8WQTy"
      }
    },
    {
      "cell_type": "code",
      "source": [
        "import pandas as pd\n",
        "import tensorflow as tf\n",
        "from tensorflow.keras.models import Sequential\n",
        "from tensorflow.keras.layers import Dense\n",
        "from tensorflow.keras.optimizers import Adam\n",
        "import numpy as np\n",
        "from sklearn.preprocessing import LabelEncoder, StandardScaler\n",
        "import random\n",
        "from tensorflow.keras.callbacks import EarlyStopping"
      ],
      "metadata": {
        "id": "tokmnky499Xp"
      },
      "execution_count": null,
      "outputs": []
    },
    {
      "cell_type": "markdown",
      "source": [
        "**Load Dataset**"
      ],
      "metadata": {
        "id": "GcpPpyC5WMY3"
      }
    },
    {
      "cell_type": "code",
      "source": [
        "train_data = pd.read_csv('/content/drive/MyDrive/Colab Notebooks/Data/Perceptron/train_data_cl_v2.csv')\n",
        "test_data = pd.read_csv('/content/drive/MyDrive/Colab Notebooks/Data/Perceptron/test_data_cl_v2.csv')\n",
        "label_test = pd.read_csv('/content/drive/MyDrive/Colab Notebooks/Data/Perceptron/test_data_GroundTruth_cl.csv')"
      ],
      "metadata": {
        "id": "wTlbic6hc3nd"
      },
      "execution_count": null,
      "outputs": []
    },
    {
      "cell_type": "markdown",
      "source": [
        "# Data Preprocessing"
      ],
      "metadata": {
        "id": "_lRYkEkbWTB6"
      }
    },
    {
      "cell_type": "markdown",
      "source": [
        "**Missing Value Train Data**"
      ],
      "metadata": {
        "id": "HcVGG9x9XJGc"
      }
    },
    {
      "cell_type": "code",
      "source": [
        "train_data.isnull().sum()"
      ],
      "metadata": {
        "colab": {
          "base_uri": "https://localhost:8080/"
        },
        "id": "GGrjcaS_WU7P",
        "outputId": "e4a2e32b-d03f-44ee-8233-7547394c75c0"
      },
      "execution_count": null,
      "outputs": [
        {
          "output_type": "execute_result",
          "data": {
            "text/plain": [
              "PassengerId      0\n",
              "Survived         0\n",
              "Pclass           0\n",
              "Name             0\n",
              "Sex              0\n",
              "Age              0\n",
              "SibSp            0\n",
              "Parch            0\n",
              "Ticket           0\n",
              "Fare             0\n",
              "Cabin          529\n",
              "Embarked         0\n",
              "dtype: int64"
            ]
          },
          "metadata": {},
          "execution_count": 5
        }
      ]
    },
    {
      "cell_type": "code",
      "source": [
        "train_data.dtypes"
      ],
      "metadata": {
        "colab": {
          "base_uri": "https://localhost:8080/"
        },
        "id": "nYhHjMzWXChT",
        "outputId": "ca412a88-f69f-4c20-9a51-7d2c33ae3306"
      },
      "execution_count": null,
      "outputs": [
        {
          "output_type": "execute_result",
          "data": {
            "text/plain": [
              "PassengerId      int64\n",
              "Survived         int64\n",
              "Pclass           int64\n",
              "Name            object\n",
              "Sex             object\n",
              "Age            float64\n",
              "SibSp            int64\n",
              "Parch            int64\n",
              "Ticket          object\n",
              "Fare           float64\n",
              "Cabin           object\n",
              "Embarked        object\n",
              "dtype: object"
            ]
          },
          "metadata": {},
          "execution_count": 6
        }
      ]
    },
    {
      "cell_type": "code",
      "source": [
        "train_data = train_data.fillna(train_data.mode().iloc[0])"
      ],
      "metadata": {
        "id": "OaRRh99KXMog"
      },
      "execution_count": null,
      "outputs": []
    },
    {
      "cell_type": "code",
      "source": [
        "train_data.isnull().sum()"
      ],
      "metadata": {
        "colab": {
          "base_uri": "https://localhost:8080/"
        },
        "id": "g4RZ0dUxXhxe",
        "outputId": "079ef1d3-031f-430a-9628-f4b0cfcc155d"
      },
      "execution_count": null,
      "outputs": [
        {
          "output_type": "execute_result",
          "data": {
            "text/plain": [
              "PassengerId    0\n",
              "Survived       0\n",
              "Pclass         0\n",
              "Name           0\n",
              "Sex            0\n",
              "Age            0\n",
              "SibSp          0\n",
              "Parch          0\n",
              "Ticket         0\n",
              "Fare           0\n",
              "Cabin          0\n",
              "Embarked       0\n",
              "dtype: int64"
            ]
          },
          "metadata": {},
          "execution_count": 8
        }
      ]
    },
    {
      "cell_type": "markdown",
      "source": [
        "**Missing Value Test Data**"
      ],
      "metadata": {
        "id": "v763kgBjXq_A"
      }
    },
    {
      "cell_type": "code",
      "source": [
        "test_data.isnull().sum()"
      ],
      "metadata": {
        "colab": {
          "base_uri": "https://localhost:8080/"
        },
        "id": "yrZvMa1dWnGf",
        "outputId": "832a0e0e-6973-4611-d879-f317f6b95cab"
      },
      "execution_count": null,
      "outputs": [
        {
          "output_type": "execute_result",
          "data": {
            "text/plain": [
              "PassengerId      0\n",
              "Pclass           0\n",
              "Name             0\n",
              "Sex              0\n",
              "Age              0\n",
              "SibSp            0\n",
              "Parch            0\n",
              "Ticket           0\n",
              "Fare             0\n",
              "Cabin          244\n",
              "Embarked         0\n",
              "dtype: int64"
            ]
          },
          "metadata": {},
          "execution_count": 9
        }
      ]
    },
    {
      "cell_type": "code",
      "source": [
        "test_data.dtypes"
      ],
      "metadata": {
        "colab": {
          "base_uri": "https://localhost:8080/"
        },
        "id": "5iZ7yfkVXG3d",
        "outputId": "a943e2ea-16b0-45a6-bce2-31d19fa71e23"
      },
      "execution_count": null,
      "outputs": [
        {
          "output_type": "execute_result",
          "data": {
            "text/plain": [
              "PassengerId      int64\n",
              "Pclass           int64\n",
              "Name            object\n",
              "Sex             object\n",
              "Age            float64\n",
              "SibSp            int64\n",
              "Parch            int64\n",
              "Ticket          object\n",
              "Fare           float64\n",
              "Cabin           object\n",
              "Embarked        object\n",
              "dtype: object"
            ]
          },
          "metadata": {},
          "execution_count": 10
        }
      ]
    },
    {
      "cell_type": "code",
      "source": [
        "test_data = test_data.fillna(test_data.mode().iloc[0])\n",
        "test_data.isnull().sum()"
      ],
      "metadata": {
        "colab": {
          "base_uri": "https://localhost:8080/"
        },
        "id": "Scst0De9Xvb2",
        "outputId": "55ec1aa6-4c51-4db2-a63d-cb8d23e9fbb6"
      },
      "execution_count": null,
      "outputs": [
        {
          "output_type": "execute_result",
          "data": {
            "text/plain": [
              "PassengerId    0\n",
              "Pclass         0\n",
              "Name           0\n",
              "Sex            0\n",
              "Age            0\n",
              "SibSp          0\n",
              "Parch          0\n",
              "Ticket         0\n",
              "Fare           0\n",
              "Cabin          0\n",
              "Embarked       0\n",
              "dtype: int64"
            ]
          },
          "metadata": {},
          "execution_count": 11
        }
      ]
    },
    {
      "cell_type": "markdown",
      "source": [
        "**Feature Selection**"
      ],
      "metadata": {
        "id": "ctgRmS_Kaik-"
      }
    },
    {
      "cell_type": "code",
      "source": [
        "selected_feature = ['Pclass','Sex']\n",
        "x_train = train_data[selected_feature]\n",
        "x_test = test_data[selected_feature]\n",
        "y_train = train_data['Survived']\n",
        "y_test = label_test['Survived']"
      ],
      "metadata": {
        "id": "6zmp6QHmaiP5"
      },
      "execution_count": null,
      "outputs": []
    },
    {
      "cell_type": "markdown",
      "source": [
        "**Label Encoding**"
      ],
      "metadata": {
        "id": "Fq-OSizFX9jW"
      }
    },
    {
      "cell_type": "code",
      "source": [
        "object_columns_tr = x_train.select_dtypes(include='object').columns.tolist()\n",
        "object_columns_ts = x_test.select_dtypes(include='object').columns.tolist()\n",
        "\n",
        "le = LabelEncoder()\n",
        "for col in object_columns_tr:\n",
        "  x_train[col] = le.fit_transform(x_train[col])\n",
        "\n",
        "for col in object_columns_ts:\n",
        "  x_test[col] = le.fit_transform(test_data[col])"
      ],
      "metadata": {
        "colab": {
          "base_uri": "https://localhost:8080/"
        },
        "id": "4C45rsrLYAJA",
        "outputId": "45210d54-d682-4475-a67e-16c000bc79c2"
      },
      "execution_count": null,
      "outputs": [
        {
          "output_type": "stream",
          "name": "stderr",
          "text": [
            "<ipython-input-13-12bd63110c55>:6: SettingWithCopyWarning: \n",
            "A value is trying to be set on a copy of a slice from a DataFrame.\n",
            "Try using .loc[row_indexer,col_indexer] = value instead\n",
            "\n",
            "See the caveats in the documentation: https://pandas.pydata.org/pandas-docs/stable/user_guide/indexing.html#returning-a-view-versus-a-copy\n",
            "  x_train[col] = le.fit_transform(x_train[col])\n",
            "<ipython-input-13-12bd63110c55>:9: SettingWithCopyWarning: \n",
            "A value is trying to be set on a copy of a slice from a DataFrame.\n",
            "Try using .loc[row_indexer,col_indexer] = value instead\n",
            "\n",
            "See the caveats in the documentation: https://pandas.pydata.org/pandas-docs/stable/user_guide/indexing.html#returning-a-view-versus-a-copy\n",
            "  x_test[col] = le.fit_transform(test_data[col])\n"
          ]
        }
      ]
    },
    {
      "cell_type": "markdown",
      "source": [
        "**Scaling Data**"
      ],
      "metadata": {
        "id": "-7rGHlMWbQQS"
      }
    },
    {
      "cell_type": "code",
      "source": [
        "scaler = StandardScaler()\n",
        "x_train = scaler.fit_transform(x_train)\n",
        "x_test = scaler.transform(x_test)"
      ],
      "metadata": {
        "id": "AyJXYFvMZeEx"
      },
      "execution_count": null,
      "outputs": []
    },
    {
      "cell_type": "markdown",
      "source": [
        "# Model Perceptron"
      ],
      "metadata": {
        "id": "T9ZXBSJFbn-p"
      }
    },
    {
      "cell_type": "code",
      "source": [
        "activation_func = ['relu','sigmoid','tanh'] #List Activation Function\n",
        "\n",
        "early_stopping = EarlyStopping(monitor='val_loss', patience=10)\n",
        "\n",
        "for af in activation_func:\n",
        "  model = Sequential() #inisiasi Model\n",
        "  model.add(Dense(units=1, input_dim=x_train.shape[1], activation = af))\n",
        "\n",
        "  model.compile(loss='binary_crossentropy', optimizer=Adam(learning_rate=0.002), metrics=['accuracy','precision','recall'])\n",
        "\n",
        "  model.fit(x_train, y_train, epochs=100, verbose=1, validation_split = 0.2, callbacks=[early_stopping]) #Train Model\n",
        "\n",
        "  _, accuracy_train,precision_train,recall_train = model.evaluate(x_train, y_train, verbose=0)\n",
        "  _, accuracy_test = model.evaluate(x_test, y_test, verbose=0)\n",
        "  print(f'Activation Function: {af}')\n",
        "  print(f\"Training accuracy: {accuracy_train}\")\n",
        "  print(f'''Precision Train: {}''')\n",
        "  print(f\"Testing accuracy: {accuracy_test}\\n\")"
      ],
      "metadata": {
        "id": "pZ6b9UE0FXWK"
      },
      "execution_count": null,
      "outputs": []
    },
    {
      "cell_type": "markdown",
      "source": [
        "**Fungsi Relu**"
      ],
      "metadata": {
        "id": "vHqIVAhor5VL"
      }
    },
    {
      "cell_type": "code",
      "source": [
        "model = Sequential() #inisiasi Model\n",
        "model.add(Dense(units=1, input_dim=x_train.shape[1], activation = 'relu'))\n",
        "model.compile(loss='binary_crossentropy', optimizer=Adam(learning_rate=0.001), metrics=['accuracy'])"
      ],
      "metadata": {
        "id": "a99WU2tqfM5B"
      },
      "execution_count": null,
      "outputs": []
    },
    {
      "cell_type": "code",
      "source": [
        "#Cek Bobot\n",
        "initial_weights = model.get_weights()\n",
        "initial_weights"
      ],
      "metadata": {
        "colab": {
          "base_uri": "https://localhost:8080/"
        },
        "id": "VrZQ5l0KiTa4",
        "outputId": "5b554dfd-81b3-4415-8fbc-b01c862e3e50"
      },
      "execution_count": null,
      "outputs": [
        {
          "output_type": "execute_result",
          "data": {
            "text/plain": [
              "[array([[0.6922066 ],\n",
              "        [0.29892075],\n",
              "        [0.0025574 ],\n",
              "        [0.401451  ]], dtype=float32),\n",
              " array([0.], dtype=float32)]"
            ]
          },
          "metadata": {},
          "execution_count": 111
        }
      ]
    },
    {
      "cell_type": "code",
      "source": [
        "model.fit(x_train,y_train, epochs = 100,verbose = 0 )\n",
        "_, accuracy_train = model.evaluate(x_train, y_train, verbose=0)\n",
        "_, accuracy_test = model.evaluate(x_test, y_test, verbose=0)\n",
        "print(f\"Training accuracy: {accuracy_train}\")\n",
        "print(f\"Testing accuracy: {accuracy_test}\\n\")"
      ],
      "metadata": {
        "id": "WcDZr0efiSYk"
      },
      "execution_count": null,
      "outputs": []
    },
    {
      "cell_type": "markdown",
      "source": [
        "**Fungsi Sigmoid**"
      ],
      "metadata": {
        "id": "nEVeirTRr7vK"
      }
    },
    {
      "cell_type": "code",
      "source": [
        "model = Sequential() #inisiasi Model\n",
        "model.add(Dense(units=1, input_dim=x_train.shape[1], activation = 'sigmoid'))\n",
        "model.compile(loss='binary_crossentropy', optimizer=Adam(learning_rate=0.001), metrics=['accuracy'])"
      ],
      "metadata": {
        "id": "4b__iXc1sAXI"
      },
      "execution_count": null,
      "outputs": []
    },
    {
      "cell_type": "code",
      "source": [
        "model.set_weights(initial_weights)\n",
        "model.get_weights()"
      ],
      "metadata": {
        "colab": {
          "base_uri": "https://localhost:8080/"
        },
        "id": "x3eCa0iTsLsK",
        "outputId": "728f3773-974f-4118-ffe7-3443baf68fe2"
      },
      "execution_count": null,
      "outputs": [
        {
          "output_type": "execute_result",
          "data": {
            "text/plain": [
              "[array([[0.6922066 ],\n",
              "        [0.29892075],\n",
              "        [0.0025574 ],\n",
              "        [0.401451  ]], dtype=float32),\n",
              " array([0.], dtype=float32)]"
            ]
          },
          "metadata": {},
          "execution_count": 119
        }
      ]
    },
    {
      "cell_type": "code",
      "source": [
        "model.fit(x_train,y_train, epochs = 100, verbose=0 )\n",
        "_, accuracy_train = model.evaluate(x_train, y_train, verbose=0)\n",
        "_, accuracy_test = model.evaluate(x_test, y_test, verbose=0)\n",
        "print(f\"Training accuracy: {accuracy_train}\")\n",
        "print(f\"Testing accuracy: {accuracy_test}\\n\")"
      ],
      "metadata": {
        "id": "TXOl1dNfsain"
      },
      "execution_count": null,
      "outputs": []
    },
    {
      "cell_type": "markdown",
      "source": [
        "**Fungsi Tanh**"
      ],
      "metadata": {
        "id": "4e4q00wkr9m2"
      }
    },
    {
      "cell_type": "code",
      "source": [
        "model = Sequential() #inisiasi Model\n",
        "model.add(Dense(units=1, input_dim=x_train.shape[1], activation = 'tanh'))\n",
        "model.compile(loss='binary_crossentropy', optimizer=Adam(learning_rate=0.001), metrics=['accuracy'])"
      ],
      "metadata": {
        "id": "O_swzfV0scnn"
      },
      "execution_count": null,
      "outputs": []
    },
    {
      "cell_type": "code",
      "source": [
        "activation_func = ['relu','sigmoid','tanh'] #List Activation Function\n",
        "\n",
        "early_stopping = EarlyStopping(monitor='val_loss', patience=10)\n",
        "\n",
        "for af in activation_func:\n",
        "  model = Sequential() #inisiasi Model\n",
        "  model.add(Dense(units=1, input_dim=x_train.shape[1], activation = af))\n",
        "\n",
        "  #Cek apakah bobot awal sudah ada\n",
        "  if 'initial_weights' in locals():\n",
        "    model.set_weights(initial_weights)\n",
        "  else:\n",
        "    initial_weights = model.get_weights()\n",
        "\n",
        "  #print(initial_weights)\n",
        "\n",
        "  #Compile Model\n",
        "  model.compile(loss='binary_crossentropy', optimizer=Adam(learning_rate=0.001), metrics=['accuracy'])\n",
        "  model.fit(x_train, y_train, epochs=100, verbose=0) #Train Model\n",
        "\n",
        "  _, accuracy_train = model.evaluate(x_train, y_train, verbose=0)\n",
        "  _, accuracy_test = model.evaluate(x_test, y_test, verbose=0)\n",
        "  print(f'Activation Function: {af}')\n",
        "  print(f\"Training accuracy: {accuracy_train}\")\n",
        "  print(f\"Testing accuracy: {accuracy_test}\\n\")"
      ],
      "metadata": {
        "id": "YFyXOsm9vBAL",
        "colab": {
          "base_uri": "https://localhost:8080/"
        },
        "outputId": "e7bb7e53-3f64-4ef0-9f22-e6fd286200bc"
      },
      "execution_count": null,
      "outputs": [
        {
          "output_type": "stream",
          "name": "stdout",
          "text": [
            "Activation Function: relu\n",
            "Training accuracy: 0.7457864880561829\n",
            "Testing accuracy: 0.7160120606422424\n",
            "\n",
            "Activation Function: sigmoid\n",
            "Training accuracy: 0.7963483333587646\n",
            "Testing accuracy: 0.9154078364372253\n",
            "\n",
            "Activation Function: tanh\n",
            "Training accuracy: 0.7205055952072144\n",
            "Testing accuracy: 0.6314199566841125\n",
            "\n"
          ]
        }
      ]
    },
    {
      "cell_type": "code",
      "source": [
        "del initial_weights"
      ],
      "metadata": {
        "id": "KM-EtPfjQjtR"
      },
      "execution_count": null,
      "outputs": []
    }
  ]
}